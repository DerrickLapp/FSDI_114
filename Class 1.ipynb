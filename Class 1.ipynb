{
 "cells": [
  {
   "cell_type": "markdown",
   "id": "06927f17-bece-43c3-ac98-b52c2333fc9d",
   "metadata": {},
   "source": [
    "# Stacks\n",
    "\n",
    "A *stack* is an ordered collection of elements where items are added and removed from the same end, commonly known as the *top*."
   ]
  },
  {
   "cell_type": "code",
   "execution_count": 1,
   "id": "1d25630d-906a-4549-96f0-42bcf94b6e13",
   "metadata": {},
   "outputs": [],
   "source": [
    "# Simplified implementation of Stack (relying on built-ins)\n",
    "\n",
    "class Stack:\n",
    "    def __init__(self):\n",
    "        self.items = [] #this is a python3 list\n",
    "\n",
    "    def push(self, value):\n",
    "        self.items.append(value)\n",
    "\n",
    "    def pop(self):\n",
    "        return self.items.pop()\n",
    "\n",
    "    # Nice to have methods:\n",
    "    def peek(self):\n",
    "        return self.items[len(self.items)-1]\n",
    "\n",
    "    def is_empty(self):\n",
    "        return self.items == []\n",
    "\n",
    "    def size(self):\n",
    "        return len(self.items)\n",
    "        "
   ]
  },
  {
   "cell_type": "markdown",
   "id": "55831225-47e6-432e-b10d-8ed4d5af68d2",
   "metadata": {},
   "source": [
    "# Problem 1\n",
    "\n",
    "Create a function called `invert_str` that receives a string as a parameter and returns it in inverted order as a result.\n",
    "\n",
    "## Examples\n",
    "```\n",
    "derrick -> kcirred\n",
    "earth -> htrae\n",
    "hello -> olleh\n",
    "world -> dlrow\n",
    "```\n",
    "\n",
    "### Acceptance Criteria\n",
    "1. Your final solution *absolutely must* make use of the stack class above.\n",
    "2. You should, at a minimum, be able to present a design for your solution (pseudocode recommended, but you *can* use flowcharts).\n",
    "\n"
   ]
  },
  {
   "cell_type": "code",
   "execution_count": 4,
   "id": "d660a433-4580-46f3-9519-fa52456d6a69",
   "metadata": {},
   "outputs": [
    {
     "name": "stdout",
     "output_type": "stream",
     "text": [
      "kcirred\n",
      "htrae\n",
      "olleh\n",
      "dlrow\n"
     ]
    }
   ],
   "source": [
    "# Assessment\n",
    "# We'll need a function named invert_str that utilizes the Stack class\n",
    "# Even return empty strings\n",
    "# push each letter into a item in the class Stack\n",
    "# Numbers can be IN the string, but if it is not a string, it should fail to work.\n",
    "# Maybe this is a for loop for the length of the string to push into the list in Stack\n",
    "#then another for loop to pop the length of the string to return the letters in reverse of the pushed order\n",
    "\n",
    "# Assemble\n",
    "# function invert_str(\"string inserted here\")\n",
    "    #create instance of Stack class\n",
    "    #for each item in \"string inserted here\":\n",
    "        #Push item to Stack\n",
    "    #for each item in Stack:\n",
    "        #Pop item from Stack\n",
    "\n",
    "# Action\n",
    "def invert_str(string):\n",
    "    stack = Stack()\n",
    "    reverse_string = \"\"\n",
    "    for char in string:\n",
    "        stack.push(char)\n",
    "        \n",
    "    for char in string:\n",
    "        reverse_string += stack.pop()\n",
    "\n",
    "    return reverse_string\n",
    "        \n",
    "\n",
    "print(invert_str(\"derrick\"))\n",
    "print(invert_str(\"earth\"))\n",
    "print(invert_str(\"hello\"))\n",
    "print(invert_str(\"world\"))"
   ]
  },
  {
   "cell_type": "code",
   "execution_count": 5,
   "id": "d1799bd5-691a-4025-9b42-6d4f0cb2f532",
   "metadata": {},
   "outputs": [
    {
     "data": {
      "text/plain": [
       "'wowho'"
      ]
     },
     "execution_count": 5,
     "metadata": {},
     "output_type": "execute_result"
    }
   ],
   "source": [
    "invert_str(\"ohwow\")"
   ]
  },
  {
   "cell_type": "code",
   "execution_count": 6,
   "id": "7474f6f0-f519-4d8e-bc8b-48a4ca622230",
   "metadata": {},
   "outputs": [
    {
     "name": "stdout",
     "output_type": "stream",
     "text": [
      "wowho\n"
     ]
    }
   ],
   "source": [
    "print(invert_str(\"ohwow\"))"
   ]
  },
  {
   "cell_type": "code",
   "execution_count": null,
   "id": "ab1b8db0-02ed-4f17-bda3-9523fe9f4da7",
   "metadata": {},
   "outputs": [],
   "source": []
  }
 ],
 "metadata": {
  "kernelspec": {
   "display_name": "Python 3 (ipykernel)",
   "language": "python",
   "name": "python3"
  },
  "language_info": {
   "codemirror_mode": {
    "name": "ipython",
    "version": 3
   },
   "file_extension": ".py",
   "mimetype": "text/x-python",
   "name": "python",
   "nbconvert_exporter": "python",
   "pygments_lexer": "ipython3",
   "version": "3.12.3"
  }
 },
 "nbformat": 4,
 "nbformat_minor": 5
}
