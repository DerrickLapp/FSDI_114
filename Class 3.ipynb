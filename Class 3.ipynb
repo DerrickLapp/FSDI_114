{
 "cells": [
  {
   "cell_type": "markdown",
   "id": "3ad7ae33-b280-45d4-a0bc-d22d658b5595",
   "metadata": {},
   "source": [
    "# Linked Lists\n",
    "\n",
    "There are two varieties of 'Linked Lists' when it comes to data structures.\n",
    "\n",
    "There are:\n",
    "1. Singly linked lists or uni-directional lists.\n",
    "2. Doubly linked lists or bi-directional lists."
   ]
  },
  {
   "cell_type": "code",
   "execution_count": null,
   "id": "62e32eb6-d703-40b6-877e-c494d532d889",
   "metadata": {},
   "outputs": [],
   "source": [
    "mylist = []\n",
    "\n",
    "help(mylist)"
   ]
  },
  {
   "cell_type": "markdown",
   "id": "a1a008a9-5cba-4553-bbab-6ca740fafe5d",
   "metadata": {},
   "source": [
    "# Helpful Link\n",
    "https://visualgo.net/en/list?slide=1"
   ]
  },
  {
   "cell_type": "code",
   "execution_count": null,
   "id": "dd48afe0-415a-43b6-a06a-fbf1a8d8b38f",
   "metadata": {},
   "outputs": [],
   "source": [
    "mylist = []\n",
    "print(mylist)\n",
    "\n",
    "mylist.append(1)\n",
    "print(mylist)\n",
    "\n",
    "mylist.append(2)\n",
    "print(mylist)\n"
   ]
  },
  {
   "attachments": {},
   "cell_type": "markdown",
   "id": "6c4552ab-f94f-4b8f-8514-b4c7c995d2fa",
   "metadata": {},
   "source": [
    "# Assessment and Assembly\n",
    "\n",
    "# Pseudocode for insert\n",
    "So first make new_node\n",
    "add to count\n",
    "ref1 = index-1     #could this be self.__Node(index - 1)\n",
    "ref2 = index       #could this be self.__Node(index)\n",
    "\n",
    "Check if there's a head:\n",
    "If no head, proceed like appending with no prior head (Could literally just use append)\n",
    "\n",
    "If there's head:\n",
    "    check if index == 0\n",
    "        if index == 0\n",
    "        make current head point to None,\n",
    "        make new_node point Next to current head,\n",
    "        make new_node the head,\n",
    "    Otherwise check if size of the list == 1\n",
    "        If size == 1\n",
    "            append to the tail of the list\n",
    "\n",
    "        If size of the list > 1: #Just working on how to reference the index\n",
    "            make whichever index that points to the index we want to insert to point to new node,\n",
    "            make new node point to the index the index we want to insert to,\n",
    "            make new_node.index = index we want it to be # I don't think it's new_node.index but just the oncept of it.\n",
    "\n",
    "\n",
    "\n",
    "REWORKING THIS TO MATCH THE SEARCH FROM ABOVE"
   ]
  },
  {
   "cell_type": "code",
   "execution_count": 26,
   "id": "4816e9e8-9916-4130-a005-ca058b8b3253",
   "metadata": {},
   "outputs": [],
   "source": [
    "# From scratch implementation of SinglyLinkList\n",
    "\n",
    "class SinglyLinkedList:\n",
    "    class __Node:\n",
    "        def __init__(self,datum):\n",
    "            self.datum = datum\n",
    "            self.next = None\n",
    "\n",
    "    def __init__(self):\n",
    "        self.head = None\n",
    "        self.tail = None\n",
    "        self.count = 0\n",
    "\n",
    "    def append(self, value):\n",
    "        new_node = self.__Node(value)\n",
    "        self.count += 1\n",
    "        if not self.head:\n",
    "            self.head = new_node\n",
    "            self.tail = new_node\n",
    "        else:\n",
    "            self.tail.next = new_node\n",
    "            self.tail = new_node\n",
    "\n",
    "    def insert(self, index, value):\n",
    "        # This method inserts a new node with the \"value\" BEFORE the given \"index\".\n",
    "        ref1 = self.head\n",
    "        ref2 = 0\n",
    "        new_node = self.__Node(value)\n",
    "        if not self.head or index > self.count:\n",
    "            self.append(value)\n",
    "        elif index == 0:\n",
    "            self.count += 1\n",
    "            new_node.next = self.head\n",
    "            self.head = new_node\n",
    "        else:\n",
    "            self.count += 1\n",
    "            while ref1 and ref2 !=index:\n",
    "                if ref2 == index-1:\n",
    "                    new_node.next = ref1.next\n",
    "                    ref1.next = new_node\n",
    "                    break\n",
    "                ref1 = ref1.next\n",
    "                ref2 += 1\n",
    "            return\n",
    "            \n",
    "    def remove(self, value):\n",
    "        # This method removes the first instance of \"value\" and raises a ValueError if the value is not present in the list.\n",
    "        pass\n",
    "\n",
    "    def index(self, value):\n",
    "        # This method returns the position in the list of the given \"value\" if it is present in the list\n",
    "        # Otherwise, it raises a ValueError if the value is not present in the list\n",
    "        pass\n",
    "\n",
    "    def search(self, index):\n",
    "        if self.head:\n",
    "            current = self.head\n",
    "            iteration = 0\n",
    "            while current and iteration != index:\n",
    "                if iteration == index:\n",
    "                    break\n",
    "                current = current.next\n",
    "                iteration += 1\n",
    "            return current.datum\n",
    "        raise IndexError(\"This list is empty\")\n",
    "    \n",
    "    def __str__(self):\n",
    "        out = \"[\"\n",
    "        current = self.head\n",
    "        if current:\n",
    "            out += \"%s\" % current.datum\n",
    "            current = current.next\n",
    "            while current:\n",
    "                out += \", %s\" % current.datum\n",
    "                current = current.next\n",
    "        out += \"]\"\n",
    "        return out\n",
    "\n",
    "    def __len__(self):\n",
    "        # This method should return the total number of Nodes in this list.\n",
    "        return 0\n",
    "    "
   ]
  },
  {
   "cell_type": "code",
   "execution_count": 31,
   "id": "bdf81e8b-cb86-4c82-8fc8-b3218216a692",
   "metadata": {},
   "outputs": [
    {
     "name": "stdout",
     "output_type": "stream",
     "text": [
      "[]\n",
      "[1]\n",
      "[1, A]\n",
      "2\n"
     ]
    }
   ],
   "source": [
    "sll = SinglyLinkedList()\n",
    "print(sll)\n",
    "\n",
    "sll.append(1)\n",
    "print(sll)\n",
    "\n",
    "# sll.append(2)\n",
    "# print(sll)\n",
    "\n",
    "sll.insert(2, \"A\")\n",
    "print(sll)\n",
    "print(sll.count)"
   ]
  },
  {
   "cell_type": "code",
   "execution_count": null,
   "id": "1554bf6e-19cf-4791-a355-79d3eccd0045",
   "metadata": {},
   "outputs": [],
   "source": []
  }
 ],
 "metadata": {
  "kernelspec": {
   "display_name": "Python 3 (ipykernel)",
   "language": "python",
   "name": "python3"
  },
  "language_info": {
   "codemirror_mode": {
    "name": "ipython",
    "version": 3
   },
   "file_extension": ".py",
   "mimetype": "text/x-python",
   "name": "python",
   "nbconvert_exporter": "python",
   "pygments_lexer": "ipython3",
   "version": "3.12.3"
  }
 },
 "nbformat": 4,
 "nbformat_minor": 5
}
